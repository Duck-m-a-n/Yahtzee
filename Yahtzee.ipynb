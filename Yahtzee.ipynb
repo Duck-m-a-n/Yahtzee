{
 "cells": [
  {
   "cell_type": "markdown",
   "id": "4a49bc3a-176a-46b6-bcdb-0cbbc0f73042",
   "metadata": {},
   "source": [
    "# Yahtzee Game (Simple)"
   ]
  },
  {
   "cell_type": "code",
   "execution_count": 1,
   "id": "b35cd998-9064-4849-93e2-3143c98e147b",
   "metadata": {},
   "outputs": [],
   "source": [
    "import random\n",
    "from IPython.display import clear_output"
   ]
  },
  {
   "cell_type": "code",
   "execution_count": 38,
   "id": "944bf85c-2e3f-45bd-b59f-c87fac211138",
   "metadata": {},
   "outputs": [],
   "source": [
    "def display_dice(ds):\n",
    "    df = {1:{\"a\":\" \", \"b\":\" \", \"c\":\" \", \"d\":\"●\", \"e\":\" \", \"f\":\" \", \"g\":\" \"},\n",
    "          2:{\"a\":\"●\", \"b\":\" \", \"c\":\" \", \"d\":\" \", \"e\":\" \", \"f\":\" \", \"g\":\"●\"},\n",
    "          3:{\"a\":\"●\", \"b\":\" \", \"c\":\" \", \"d\":\"●\", \"e\":\" \", \"f\":\" \", \"g\":\"●\"},\n",
    "          4:{\"a\":\"●\", \"b\":\"●\", \"c\":\" \", \"d\":\" \", \"e\":\" \", \"f\":\"●\", \"g\":\"●\"},\n",
    "          5:{\"a\":\"●\", \"b\":\"●\", \"c\":\" \", \"d\":\"●\", \"e\":\" \", \"f\":\"●\", \"g\":\"●\"},\n",
    "          6:{\"a\":\"●\", \"b\":\"●\", \"c\":\"●\", \"d\":\" \", \"e\":\"●\", \"f\":\"●\", \"g\":\"●\"}}\n",
    "    dice = f\"   Die 1    Die 2   Die 3    Die 4    Die 5\\\n",
    "    \\n ┌───────┐ ┌───────┐ ┌───────┐ ┌───────┐ ┌───────┐\\\n",
    "    \\n │ {df[ds[0]]['a']}   {df[ds[0]]['b']} │ │ {df[ds[1]]['a']}   {df[ds[1]]['b']} │ │ {df[ds[2]]['a']}   {df[ds[2]]['b']} │ │ {df[ds[3]]['a']}   {df[ds[3]]['b']} │ │ {df[ds[4]]['a']}   {df[ds[4]]['b']} │\\\n",
    "    \\n │ {df[ds[0]]['c']} {df[ds[0]]['d']} {df[ds[0]]['e']} │ │ {df[ds[1]]['c']} {df[ds[1]]['d']} {df[ds[1]]['e']} │ │ {df[ds[2]]['c']} {df[ds[2]]['d']} {df[ds[2]]['e']} │ │ {df[ds[3]]['c']} {df[ds[3]]['d']} {df[ds[3]]['e']} │ │ {df[ds[4]]['c']} {df[ds[4]]['d']} {df[ds[4]]['e']} │\\\n",
    "    \\n │ {df[ds[0]]['f']}   {df[ds[0]]['g']} │ │ {df[ds[1]]['f']}   {df[ds[1]]['g']} │ │ {df[ds[2]]['f']}   {df[ds[2]]['g']} │ │ {df[ds[3]]['f']}   {df[ds[3]]['g']} │ │ {df[ds[4]]['f']}   {df[ds[4]]['g']} │\\\n",
    "    \\n └───────┘ └───────┘ └───────┘ └───────┘ └───────┘ \"\n",
    "    print(dice)"
   ]
  },
  {
   "cell_type": "code",
   "execution_count": 39,
   "id": "cb1fdf09-581e-4dc6-bb6b-997a3f1a13c3",
   "metadata": {},
   "outputs": [
    {
     "name": "stdout",
     "output_type": "stream",
     "text": [
      "   Die 1    Die 2   Die 3    Die 4    Die 5    \n",
      " ┌───────┐ ┌───────┐ ┌───────┐ ┌───────┐ ┌───────┐    \n",
      " │       │ │ ●     │ │ ●     │ │ ●   ● │ │ ●   ● │    \n",
      " │   ●   │ │       │ │   ●   │ │       │ │   ●   │    \n",
      " │       │ │     ● │ │     ● │ │ ●   ● │ │ ●   ● │    \n",
      " └───────┘ └───────┘ └───────┘ └───────┘ └───────┘ \n"
     ]
    }
   ],
   "source": [
    "display_dice([1,2,3,4,5])"
   ]
  },
  {
   "cell_type": "code",
   "execution_count": 18,
   "id": "78704b2a-6f6c-4322-bf54-5f483e873da6",
   "metadata": {},
   "outputs": [],
   "source": [
    "def roll_dice():\n",
    "    return random.randint(1,6)\n",
    "    "
   ]
  },
  {
   "cell_type": "code",
   "execution_count": 19,
   "id": "3cc504f8-f58f-410e-913d-51aef9babc47",
   "metadata": {},
   "outputs": [],
   "source": [
    "def roll_dice_all():\n",
    "    \"\"\"\n",
    "    returns list of all values of dice rolled\n",
    "    \"\"\"\n",
    "    dice_list = []\n",
    "    for i in range(5):\n",
    "        dice_list.append(roll_dice())\n",
    "    return dice_list"
   ]
  },
  {
   "cell_type": "code",
   "execution_count": 20,
   "id": "e1d542d2-cb05-40de-88b3-7faaeaf843d6",
   "metadata": {},
   "outputs": [],
   "source": [
    "def select_dice_to_keep():\n",
    "    \"\"\"\n",
    "    Select the dice to keep and returns indexes of actual dice\n",
    "    \"\"\"\n",
    "    keep_list = []\n",
    "    how_many_to_dice_to_keep = 6 \n",
    "    while how_many_to_dice_to_keep not in [0,1,2,3,4,5]:\n",
    "        try:\n",
    "            how_many_to_dice_to_keep = int(input('\\nHow many dice do you want to keep?'))\n",
    "        except:\n",
    "            print('You need to enter an intger between 0 and 5')\n",
    "    if how_many_to_dice_to_keep < 5:\n",
    "        while len(set(keep_list)) != how_many_to_dice_to_keep:\n",
    "            try:\n",
    "                keep = int(input('Select which a dice to keep'))\n",
    "                if keep in range(1,6):  \n",
    "                    keep_list.append(keep)\n",
    "                else:\n",
    "                    print('Enter a correct dice number to pick')\n",
    "            except:\n",
    "                print('You need to enter an intger between 1 and 5')\n",
    "        return list(set(keep_list))   \n",
    "    else:\n",
    "        return [1,2,3,4,5]"
   ]
  },
  {
   "cell_type": "code",
   "execution_count": 21,
   "id": "f5bbce8a-8c4f-48db-8920-f0f27facf5f5",
   "metadata": {},
   "outputs": [],
   "source": [
    "def reroll_dice(indices_of_dice_kept, previous_roll):\n",
    "    output_dice = previous_roll\n",
    "    for num in [num for num in range(1,6) if num not in indices_of_dice_kept]:\n",
    "        output_dice[num-1] = roll_dice()\n",
    "    return(output_dice)"
   ]
  },
  {
   "cell_type": "code",
   "execution_count": 22,
   "id": "3f3cd447-48a8-4718-a25d-1806905a3173",
   "metadata": {},
   "outputs": [],
   "source": [
    "def yahtzee_turn():\n",
    "    \"\"\"\n",
    "    Completes 3 rolls allows for selection of dice and outputs a list of final 5 dice values\n",
    "    \"\"\"\n",
    "    count = 1\n",
    "    dice_set = roll_dice_all()\n",
    "    display_dice(dice_set)\n",
    "    while count < 3:\n",
    "        dice_to_keep = select_dice_to_keep()\n",
    "        dice_set = reroll_dice(dice_to_keep, dice_set)\n",
    "        display_dice(dice_set)\n",
    "        count += 1\n",
    "    clear_output(wait=True)\n",
    "    return dice_set"
   ]
  },
  {
   "cell_type": "code",
   "execution_count": 23,
   "id": "0e8199d3-bbc1-4aca-9335-8a723ec001a2",
   "metadata": {},
   "outputs": [],
   "source": [
    "def score_card_options(list_to_score): \n",
    "    scoring_dict = {\n",
    "        'Aces': 1*list_to_score.count(1),\n",
    "        'Twos': 2*list_to_score.count(2),\n",
    "        'Threes':3*list_to_score.count(3),\n",
    "        'Fours':4*list_to_score.count(4),\n",
    "        'Fives':5*list_to_score.count(5),\n",
    "        'Sixes':6*list_to_score.count(6),\n",
    "        'Small straight': small_straight_score_card_options(list_to_score),\n",
    "        'Large straight': large_straight_score_card_options(list_to_score),\n",
    "        'Three kind': three_of_a_kind_score_card_options(list_to_score),\n",
    "        'Four kind': four_of_a_kind_score_card_options(list_to_score),\n",
    "        'Full house': full_house__score_card_options(list_to_score),\n",
    "        'Chance': sum(list_to_score),\n",
    "        'Yahtzee': yahtzee_score_card_options(list_to_score),\n",
    "                }\n",
    "    return(scoring_dict)\n"
   ]
  },
  {
   "cell_type": "code",
   "execution_count": 24,
   "id": "616b6c4b-cd95-45fc-afe9-0a4bf1cd60c9",
   "metadata": {},
   "outputs": [],
   "source": [
    "def choose_scoring_item(scorecard):\n",
    "    word = ''\n",
    "    while word not in ['Aces', 'Twos', 'Threes', 'Fours', 'Fives', 'Sixes', 'Three kind', 'Four kind', 'Full house', 'Small straight', 'Large straight', 'Yahtzee', 'Chance'] or scorecard[word] != None:\n",
    "        word = input('Choose which score location you want: ').capitalize()\n",
    "    clear_output(wait=True)\n",
    "    return word"
   ]
  },
  {
   "cell_type": "code",
   "execution_count": 32,
   "id": "5c01b24b-171c-4f9f-8212-6c825a2b18bf",
   "metadata": {},
   "outputs": [],
   "source": [
    "def display_scorecard(sd):  \n",
    "    print(\n",
    "    f\"                     \\\n",
    "    \\n Scorecard        Player 1\\\n",
    "    \\n────────────────────────────\\\n",
    "    \\n Aces            │    {sd['Aces']}\\\n",
    "    \\n─────────────────└──────────\\\n",
    "    \\n Twos            │    {sd['Twos']}\\\n",
    "    \\n─────────────────└──────────\\\n",
    "    \\n Threes          │    {sd['Threes']}\\\n",
    "    \\n─────────────────└──────────\\\n",
    "    \\n Fours           │    {sd['Fours']}\\\n",
    "    \\n─────────────────└──────────\\\n",
    "    \\n Fives           │    {sd['Fives']}\\\n",
    "    \\n─────────────────└──────────\\\n",
    "    \\n Sixes           │    {sd['Sixes']}\\\n",
    "    \\n─────────────────└──────────\\\n",
    "    \\n BONUS                {bonus_score_card_options(sd)}\\\n",
    "    \\n────────────────────────────\\\n",
    "    \\n Three kind      │    {sd['Three kind']}\\\n",
    "    \\n─────────────────└──────────\\\n",
    "    \\n Four kind       │    {sd['Four kind']}\\\n",
    "    \\n─────────────────└──────────\\\n",
    "    \\n Full house      │    {sd['Full house']}\\\n",
    "    \\n─────────────────└──────────\\\n",
    "    \\n Small straight  │    {sd['Small straight']}\\\n",
    "    \\n─────────────────└──────────\\\n",
    "    \\n Large straight  │    {sd['Large straight']}\\\n",
    "    \\n─────────────────└──────────\\\n",
    "    \\n Yahtzee         │    {sd['Yahtzee']}\\\n",
    "    \\n─────────────────└──────────\\\n",
    "    \\n Chance          │    {sd['Chance']}\\\n",
    "    \\n─────────────────└──────────\\\n",
    "    \\n Sum                  {sum([num for num in sd.values() if num != None])+bonus_score_card_options(sd)}\\\n",
    "    \\n────────────────────────────\\\n",
    "    \\n\")"
   ]
  },
  {
   "cell_type": "code",
   "execution_count": 26,
   "id": "9d745402-3dbd-485e-842e-88ba84e380d2",
   "metadata": {},
   "outputs": [],
   "source": [
    "def bonus_score_card_options(sd):\n",
    "    sumof1to6 = sum([num for num in [sd['Aces'],sd['Twos'],sd['Threes'],sd['Fours'],sd['Fives'],sd['Sixes']] if num != None])\n",
    "    if sumof1to6 >= 63:\n",
    "        return 35\n",
    "    else:\n",
    "        return 0"
   ]
  },
  {
   "cell_type": "code",
   "execution_count": 27,
   "id": "4923feea-df4b-4d8b-bc7d-698f6a6d5036",
   "metadata": {
    "tags": []
   },
   "outputs": [],
   "source": [
    "# Scoring rules for possible combinations\n",
    "\n",
    "def yahtzee_score_card_options(scoring_please):\n",
    "    for i in scoring_please:\n",
    "        if scoring_please.count(i) == 5:\n",
    "            return 50\n",
    "        else:\n",
    "            return 0\n",
    "        \n",
    "def small_straight_score_card_options(scoring_please):\n",
    "    if ((1 in scoring_please) and (2 in scoring_please) and (3 in scoring_please) and (4 in scoring_please)) or \\\n",
    "    ((2 in scoring_please) and (3 in scoring_please) and (4 in scoring_please) and (5 in scoring_please)) or \\\n",
    "    ((3 in scoring_please) and (4 in scoring_please) and (5 in scoring_please) and (6 in scoring_please)):\n",
    "        return 30\n",
    "    else:\n",
    "        return 0\n",
    "    \n",
    "def large_straight_score_card_options(scoring_please):\n",
    "    if ((1 in scoring_please) and (2 in scoring_please) and (3 in scoring_please) and (4 in scoring_please) and (5 in scoring_please)) or \\\n",
    "    ((2 in scoring_please) and (3 in scoring_please) and (4 in scoring_please) and (5 in scoring_please) and (6 in scoring_please)):\n",
    "        return 40 \n",
    "    else:\n",
    "        return 0\n",
    "    \n",
    "def three_of_a_kind_score_card_options(scoring_please):\n",
    "    for num in scoring_please:\n",
    "        if scoring_please.count(num) == 3:\n",
    "            return 3*num\n",
    "        elif scoring_please.count(num) == 4:\n",
    "            return 3*num\n",
    "        elif scoring_please.count(num) == 5:\n",
    "            return 3*num\n",
    "        else:\n",
    "            return 0\n",
    "        \n",
    "def four_of_a_kind_score_card_options(scoring_please):\n",
    "    for num in scoring_please:\n",
    "        if scoring_please.count(num) == 4:\n",
    "            return 4*num\n",
    "        elif scoring_please.count(num) == 5:\n",
    "            return 4*num\n",
    "        else:\n",
    "            return 0\n",
    "        \n",
    "def full_house__score_card_options(scoring_please):\n",
    "    blank = []\n",
    "    if len(list(set(scoring_please))) == 2:\n",
    "        for num in list(set(scoring_please)):\n",
    "            blank.append(scoring_please.count(num))\n",
    "    3 in blank and 2 in blank\n",
    "    return 25"
   ]
  },
  {
   "cell_type": "code",
   "execution_count": 28,
   "id": "90c6f805-a1a6-4a46-88d9-2f9aa1f4954d",
   "metadata": {},
   "outputs": [],
   "source": [
    "def update_score_card(turn_options, player_selected_option, score_card_before_registering):\n",
    "    score_card_before_registering[player_selected_option] = turn_options[player_selected_option]"
   ]
  },
  {
   "cell_type": "code",
   "execution_count": 29,
   "id": "144fd004-c23d-4ed9-861f-862f1d771e0d",
   "metadata": {},
   "outputs": [],
   "source": [
    "def final_score(scorecard):\n",
    "    print(f' This is your final score: {sum(scorecard.values())}')"
   ]
  },
  {
   "cell_type": "code",
   "execution_count": 55,
   "id": "476dcd33-9f60-432c-ac88-e155233a3831",
   "metadata": {
    "tags": []
   },
   "outputs": [
    {
     "name": "stdout",
     "output_type": "stream",
     "text": [
      "                         \n",
      " Scorecard        Player 1    \n",
      "────────────────────────────    \n",
      " Aces            │    None    \n",
      "─────────────────└──────────    \n",
      " Twos            │    None    \n",
      "─────────────────└──────────    \n",
      " Threes          │    None    \n",
      "─────────────────└──────────    \n",
      " Fours           │    None    \n",
      "─────────────────└──────────    \n",
      " Fives           │    10    \n",
      "─────────────────└──────────    \n",
      " Sixes           │    None    \n",
      "─────────────────└──────────    \n",
      " BONUS                0    \n",
      "────────────────────────────    \n",
      " Three kind      │    None    \n",
      "─────────────────└──────────    \n",
      " Four kind       │    None    \n",
      "─────────────────└──────────    \n",
      " Full house      │    None    \n",
      "─────────────────└──────────    \n",
      " Small straight  │    None    \n",
      "─────────────────└──────────    \n",
      " Large straight  │    None    \n",
      "─────────────────└──────────    \n",
      " Yahtzee         │    None    \n",
      "─────────────────└──────────    \n",
      " Chance          │    None    \n",
      "─────────────────└──────────    \n",
      " Sum                  10    \n",
      "────────────────────────────    \n",
      "\n"
     ]
    },
    {
     "name": "stdin",
     "output_type": "stream",
     "text": [
      "Do you want to continue playing?  Y/N n\n"
     ]
    },
    {
     "name": "stdout",
     "output_type": "stream",
     "text": [
      "You finished the game!\n"
     ]
    }
   ],
   "source": [
    "# Game Logic\n",
    "\n",
    "eempty_scoring_dict = {\n",
    "        'Aces': None,\n",
    "        'Twos': None,\n",
    "        'Threes':None,\n",
    "        'Fours':None,\n",
    "        'Fives':None,\n",
    "        'Sixes':None,\n",
    "        'Small straight': None,\n",
    "        'Large straight': None,\n",
    "        'Three kind': None,\n",
    "        'Four kind': None,\n",
    "        'Full house': None,\n",
    "        'Chance': None,\n",
    "        'Yahtzee': None\n",
    "                }\n",
    "while True:\n",
    "    game_on = input('Are you ready to play?  Y/N').lower()\n",
    "    clear_output()\n",
    "    if game_on.lower()[0] == \"y\":\n",
    "        game_on = True\n",
    "        display_scorecard(eempty_scoring_dict)\n",
    "    else:\n",
    "        game_on = False\n",
    "        print('You decided not to play :-(')\n",
    "        break\n",
    "    \n",
    "    while None in eempty_scoring_dict.values() and game_on:                                                                      \n",
    "        \n",
    "        turn_set = yahtzee_turn()\n",
    "\n",
    "        temp_scoring_dict = score_card_options(turn_set)\n",
    "\n",
    "        choice = choose_scoring_item(eempty_scoring_dict)\n",
    "\n",
    "        update_score_card(temp_scoring_dict , choice , eempty_scoring_dict)\n",
    "    \n",
    "        display_scorecard(eempty_scoring_dict)\n",
    "    \n",
    "        continue_game = input('Do you want to continue playing?  Y/N').lower().startswith('y')\n",
    "        if continue_game == False:\n",
    "            break\n",
    "        \n",
    "    print('You finished the game!')\n",
    "    break"
   ]
  }
 ],
 "metadata": {
  "kernelspec": {
   "display_name": "Python 3 (ipykernel)",
   "language": "python",
   "name": "python3"
  },
  "language_info": {
   "codemirror_mode": {
    "name": "ipython",
    "version": 3
   },
   "file_extension": ".py",
   "mimetype": "text/x-python",
   "name": "python",
   "nbconvert_exporter": "python",
   "pygments_lexer": "ipython3",
   "version": "3.9.12"
  }
 },
 "nbformat": 4,
 "nbformat_minor": 5
}
